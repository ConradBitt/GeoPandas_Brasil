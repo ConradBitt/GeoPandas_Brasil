{
 "cells": [
  {
   "cell_type": "markdown",
   "metadata": {},
   "source": [
    "# Manage spatial data using Geopandas and Shapely in Python"
   ]
  },
  {
   "cell_type": "code",
   "execution_count": 7,
   "metadata": {
    "collapsed": true
   },
   "outputs": [],
   "source": [
    "#h ttps://cambridgespark.com/content/tutorials/geopandas/index.html"
   ]
  },
  {
   "cell_type": "markdown",
   "metadata": {},
   "source": [
    "## Getting Started\n",
    "The following tutorial is written for Python 3.\n",
    "\n",
    "The easiest way to install GeoPandas is using conda to install from conda-forge. Conda-forge is a community lead collection of packages for the conda package manager. Full documentation and instillation instructions for GeoPandas are available here.\n",
    "\n",
    "The following command will install GeoPandas and all of its dependencies:\n",
    "<b>conda install -c conda-forge geopandas</b>\n",
    "Finally, for this tutorial you will require requests and zipfile to import data and extract data from zipped directories. These can be installed with the following command:\n",
    "<b>conda install requests, zipfile</b>"
   ]
  },
  {
   "cell_type": "markdown",
   "metadata": {},
   "source": [
    "### Goals:\n",
    "\n",
    "- Import, manipulate and output spatial data in Python\n",
    "\n",
    "- Convert text/CSV files to spatial data\n",
    "\n",
    "- Plot spatial data using matplotlib\n"
   ]
  },
  {
   "cell_type": "markdown",
   "metadata": {},
   "source": [
    "### Importing and preparing the data\n",
    "We require pandas, io, zipfile and requests to import the data."
   ]
  },
  {
   "cell_type": "code",
   "execution_count": 17,
   "metadata": {
    "collapsed": true
   },
   "outputs": [],
   "source": [
    "# More information:\n",
    "#    https://data.gov.uk/dataset/ff93ffc1-6656-47d8-9155-85ea0b8f2251/national-public-transport-access-nodes-naptan"
   ]
  },
  {
   "cell_type": "code",
   "execution_count": 3,
   "metadata": {
    "collapsed": true
   },
   "outputs": [],
   "source": [
    "import pandas as pd\n",
    "\n",
    "import io\n",
    "import zipfile\n",
    "import requests"
   ]
  },
  {
   "cell_type": "markdown",
   "metadata": {},
   "source": [
    "We can now import the NapTAN data using the requests library. The NaPTAN dataset is available in CSV, XML or a specific transit feed format (GTFS)."
   ]
  },
  {
   "cell_type": "code",
   "execution_count": 4,
   "metadata": {
    "collapsed": true
   },
   "outputs": [],
   "source": [
    "r = requests.get('http://naptan.app.dft.gov.uk/DataRequest/Naptan.ashx?format=csv')"
   ]
  },
  {
   "cell_type": "markdown",
   "metadata": {},
   "source": [
    "The request returns a compressed ZIP file containing the data. The zipfile package lets us extract the data as an object memory, without having to store it in the filesystem.\n",
    "\n",
    "There are a number of CSV files in the directory, but we are interested in stops.csv, which contains all of the stop points. Pandas can be used to store the data in the CSV file as a data frame."
   ]
  },
  {
   "cell_type": "code",
   "execution_count": 5,
   "metadata": {},
   "outputs": [
    {
     "name": "stderr",
     "output_type": "stream",
     "text": [
      "C:\\ProgramData\\Anaconda3\\lib\\site-packages\\IPython\\core\\interactiveshell.py:2717: DtypeWarning: Columns (1,2,5,6,7,9,11,12,13,15,20,21,22,23,24,35,36) have mixed types. Specify dtype option on import or set low_memory=False.\n",
      "  interactivity=interactivity, compiler=compiler, result=result)\n"
     ]
    },
    {
     "data": {
      "text/plain": [
       "(433694, 43)"
      ]
     },
     "execution_count": 5,
     "metadata": {},
     "output_type": "execute_result"
    }
   ],
   "source": [
    "zf = zipfile.ZipFile(io.BytesIO(r.content))\n",
    "df = pd.read_csv(zf.open('Stops.csv'), encoding='windows-1252')\n",
    "df.shape"
   ]
  },
  {
   "cell_type": "code",
   "execution_count": 11,
   "metadata": {},
   "outputs": [
    {
     "data": {
      "text/plain": [
       "(433694, 6)"
      ]
     },
     "execution_count": 11,
     "metadata": {},
     "output_type": "execute_result"
    }
   ],
   "source": [
    "# number lines ans number columns\n",
    "df.shape"
   ]
  },
  {
   "cell_type": "code",
   "execution_count": 6,
   "metadata": {},
   "outputs": [
    {
     "data": {
      "text/plain": [
       "['ATCOCode',\n",
       " 'NaptanCode',\n",
       " 'PlateCode',\n",
       " 'CleardownCode',\n",
       " 'CommonName',\n",
       " 'CommonNameLang',\n",
       " 'ShortCommonName',\n",
       " 'ShortCommonNameLang',\n",
       " 'Landmark',\n",
       " 'LandmarkLang',\n",
       " 'Street',\n",
       " 'StreetLang',\n",
       " 'Crossing',\n",
       " 'CrossingLang',\n",
       " 'Indicator',\n",
       " 'IndicatorLang',\n",
       " 'Bearing',\n",
       " 'NptgLocalityCode',\n",
       " 'LocalityName',\n",
       " 'ParentLocalityName',\n",
       " 'GrandParentLocalityName',\n",
       " 'Town',\n",
       " 'TownLang',\n",
       " 'Suburb',\n",
       " 'SuburbLang',\n",
       " 'LocalityCentre',\n",
       " 'GridType',\n",
       " 'Easting',\n",
       " 'Northing',\n",
       " 'Longitude',\n",
       " 'Latitude',\n",
       " 'StopType',\n",
       " 'BusStopType',\n",
       " 'TimingStatus',\n",
       " 'DefaultWaitTime',\n",
       " 'Notes',\n",
       " 'NotesLang',\n",
       " 'AdministrativeAreaCode',\n",
       " 'CreationDateTime',\n",
       " 'ModificationDateTime',\n",
       " 'RevisionNumber',\n",
       " 'Modification',\n",
       " 'Status']"
      ]
     },
     "execution_count": 6,
     "metadata": {},
     "output_type": "execute_result"
    }
   ],
   "source": [
    "list(df)"
   ]
  },
  {
   "cell_type": "code",
   "execution_count": 8,
   "metadata": {},
   "outputs": [
    {
     "data": {
      "text/html": [
       "<div>\n",
       "<style scoped>\n",
       "    .dataframe tbody tr th:only-of-type {\n",
       "        vertical-align: middle;\n",
       "    }\n",
       "\n",
       "    .dataframe tbody tr th {\n",
       "        vertical-align: top;\n",
       "    }\n",
       "\n",
       "    .dataframe thead th {\n",
       "        text-align: right;\n",
       "    }\n",
       "</style>\n",
       "<table border=\"1\" class=\"dataframe\">\n",
       "  <thead>\n",
       "    <tr style=\"text-align: right;\">\n",
       "      <th></th>\n",
       "      <th>ATCOCode</th>\n",
       "      <th>NaptanCode</th>\n",
       "      <th>PlateCode</th>\n",
       "      <th>CleardownCode</th>\n",
       "      <th>CommonName</th>\n",
       "      <th>CommonNameLang</th>\n",
       "      <th>ShortCommonName</th>\n",
       "      <th>ShortCommonNameLang</th>\n",
       "      <th>Landmark</th>\n",
       "      <th>LandmarkLang</th>\n",
       "      <th>...</th>\n",
       "      <th>TimingStatus</th>\n",
       "      <th>DefaultWaitTime</th>\n",
       "      <th>Notes</th>\n",
       "      <th>NotesLang</th>\n",
       "      <th>AdministrativeAreaCode</th>\n",
       "      <th>CreationDateTime</th>\n",
       "      <th>ModificationDateTime</th>\n",
       "      <th>RevisionNumber</th>\n",
       "      <th>Modification</th>\n",
       "      <th>Status</th>\n",
       "    </tr>\n",
       "  </thead>\n",
       "  <tbody>\n",
       "    <tr>\n",
       "      <th>0</th>\n",
       "      <td>0100053316</td>\n",
       "      <td>bstjpdm</td>\n",
       "      <td>NaN</td>\n",
       "      <td>NaN</td>\n",
       "      <td>Broad Walk Shops</td>\n",
       "      <td>en</td>\n",
       "      <td>NaN</td>\n",
       "      <td>NaN</td>\n",
       "      <td>NaN</td>\n",
       "      <td>NaN</td>\n",
       "      <td>...</td>\n",
       "      <td>OTH</td>\n",
       "      <td>NaN</td>\n",
       "      <td>NaN</td>\n",
       "      <td>NaN</td>\n",
       "      <td>9</td>\n",
       "      <td>2017-07-25T15:33:15</td>\n",
       "      <td>2017-07-17T14:41:57</td>\n",
       "      <td>24</td>\n",
       "      <td>del</td>\n",
       "      <td>del</td>\n",
       "    </tr>\n",
       "    <tr>\n",
       "      <th>1</th>\n",
       "      <td>0100053264</td>\n",
       "      <td>bstmjdp</td>\n",
       "      <td>NaN</td>\n",
       "      <td>NaN</td>\n",
       "      <td>Alberton Road</td>\n",
       "      <td>en</td>\n",
       "      <td>NaN</td>\n",
       "      <td>NaN</td>\n",
       "      <td>NaN</td>\n",
       "      <td>NaN</td>\n",
       "      <td>...</td>\n",
       "      <td>OTH</td>\n",
       "      <td>NaN</td>\n",
       "      <td>NaN</td>\n",
       "      <td>NaN</td>\n",
       "      <td>9</td>\n",
       "      <td>2017-07-25T15:33:15</td>\n",
       "      <td>2017-07-17T14:26:49</td>\n",
       "      <td>9</td>\n",
       "      <td>del</td>\n",
       "      <td>del</td>\n",
       "    </tr>\n",
       "    <tr>\n",
       "      <th>2</th>\n",
       "      <td>0100053308</td>\n",
       "      <td>bstgtgj</td>\n",
       "      <td>NaN</td>\n",
       "      <td>NaN</td>\n",
       "      <td>Counterslip</td>\n",
       "      <td>en</td>\n",
       "      <td>NaN</td>\n",
       "      <td>NaN</td>\n",
       "      <td>NaN</td>\n",
       "      <td>NaN</td>\n",
       "      <td>...</td>\n",
       "      <td>OTH</td>\n",
       "      <td>NaN</td>\n",
       "      <td>NaN</td>\n",
       "      <td>NaN</td>\n",
       "      <td>9</td>\n",
       "      <td>2017-07-25T15:33:15</td>\n",
       "      <td>2017-07-17T14:46:28</td>\n",
       "      <td>12</td>\n",
       "      <td>del</td>\n",
       "      <td>del</td>\n",
       "    </tr>\n",
       "    <tr>\n",
       "      <th>3</th>\n",
       "      <td>0100053306</td>\n",
       "      <td>bstapjm</td>\n",
       "      <td>NaN</td>\n",
       "      <td>NaN</td>\n",
       "      <td>Risdale Road</td>\n",
       "      <td>en</td>\n",
       "      <td>NaN</td>\n",
       "      <td>NaN</td>\n",
       "      <td>NaN</td>\n",
       "      <td>NaN</td>\n",
       "      <td>...</td>\n",
       "      <td>OTH</td>\n",
       "      <td>NaN</td>\n",
       "      <td>NaN</td>\n",
       "      <td>NaN</td>\n",
       "      <td>9</td>\n",
       "      <td>2017-07-25T15:33:15</td>\n",
       "      <td>2017-07-04T15:11:27</td>\n",
       "      <td>18</td>\n",
       "      <td>del</td>\n",
       "      <td>del</td>\n",
       "    </tr>\n",
       "    <tr>\n",
       "      <th>4</th>\n",
       "      <td>010000015</td>\n",
       "      <td>bstpgpa</td>\n",
       "      <td>NaN</td>\n",
       "      <td>NaN</td>\n",
       "      <td>Kings Head Lane</td>\n",
       "      <td>en</td>\n",
       "      <td>NaN</td>\n",
       "      <td>NaN</td>\n",
       "      <td>NaN</td>\n",
       "      <td>NaN</td>\n",
       "      <td>...</td>\n",
       "      <td>OTH</td>\n",
       "      <td>NaN</td>\n",
       "      <td>NaN</td>\n",
       "      <td>NaN</td>\n",
       "      <td>9</td>\n",
       "      <td>2017-07-25T15:33:15</td>\n",
       "      <td>2017-07-17T14:38:04</td>\n",
       "      <td>57</td>\n",
       "      <td>del</td>\n",
       "      <td>del</td>\n",
       "    </tr>\n",
       "  </tbody>\n",
       "</table>\n",
       "<p>5 rows × 43 columns</p>\n",
       "</div>"
      ],
      "text/plain": [
       "     ATCOCode NaptanCode PlateCode  CleardownCode        CommonName  \\\n",
       "0  0100053316    bstjpdm       NaN            NaN  Broad Walk Shops   \n",
       "1  0100053264    bstmjdp       NaN            NaN     Alberton Road   \n",
       "2  0100053308    bstgtgj       NaN            NaN       Counterslip   \n",
       "3  0100053306    bstapjm       NaN            NaN      Risdale Road   \n",
       "4   010000015    bstpgpa       NaN            NaN   Kings Head Lane   \n",
       "\n",
       "  CommonNameLang ShortCommonName ShortCommonNameLang Landmark LandmarkLang  \\\n",
       "0             en             NaN                 NaN      NaN          NaN   \n",
       "1             en             NaN                 NaN      NaN          NaN   \n",
       "2             en             NaN                 NaN      NaN          NaN   \n",
       "3             en             NaN                 NaN      NaN          NaN   \n",
       "4             en             NaN                 NaN      NaN          NaN   \n",
       "\n",
       "   ...   TimingStatus DefaultWaitTime Notes NotesLang AdministrativeAreaCode  \\\n",
       "0  ...            OTH             NaN   NaN       NaN                      9   \n",
       "1  ...            OTH             NaN   NaN       NaN                      9   \n",
       "2  ...            OTH             NaN   NaN       NaN                      9   \n",
       "3  ...            OTH             NaN   NaN       NaN                      9   \n",
       "4  ...            OTH             NaN   NaN       NaN                      9   \n",
       "\n",
       "      CreationDateTime ModificationDateTime RevisionNumber Modification Status  \n",
       "0  2017-07-25T15:33:15  2017-07-17T14:41:57             24          del    del  \n",
       "1  2017-07-25T15:33:15  2017-07-17T14:26:49              9          del    del  \n",
       "2  2017-07-25T15:33:15  2017-07-17T14:46:28             12          del    del  \n",
       "3  2017-07-25T15:33:15  2017-07-04T15:11:27             18          del    del  \n",
       "4  2017-07-25T15:33:15  2017-07-17T14:38:04             57          del    del  \n",
       "\n",
       "[5 rows x 43 columns]"
      ]
     },
     "execution_count": 8,
     "metadata": {},
     "output_type": "execute_result"
    }
   ],
   "source": [
    "df.head()"
   ]
  },
  {
   "cell_type": "markdown",
   "metadata": {},
   "source": [
    "We are only interested in some of these attributes of each stop, specifically the ATCOCode (a unique code for each stop), the CommonName, the StopType, the Status and the Latitude and Longitude."
   ]
  },
  {
   "cell_type": "code",
   "execution_count": 10,
   "metadata": {
    "collapsed": true
   },
   "outputs": [],
   "source": [
    "# Obtain a subset with a columns that we need\n",
    "df = df[['ATCOCode', 'CommonName', 'StopType', 'Status', 'Latitude', 'Longitude']]"
   ]
  },
  {
   "cell_type": "markdown",
   "metadata": {},
   "source": [
    "We can also investigate the values in the columns to find out more about their values. Let's have a look at the values which StopType can take."
   ]
  },
  {
   "cell_type": "code",
   "execution_count": 15,
   "metadata": {
    "collapsed": true
   },
   "outputs": [],
   "source": [
    "# we see the unique values we have in the dataset for the column StopType"
   ]
  },
  {
   "cell_type": "code",
   "execution_count": 16,
   "metadata": {},
   "outputs": [
    {
     "data": {
      "text/plain": [
       "array(['BCT', 'FTD', 'RSE', 'BCS', 'TMU', 'AIR', 'BCE', 'TXR', 'STR',\n",
       "       'BCQ', 'RLY', 'RPL', 'GAT', 'FBT', 'FER', 'MET', 'PLT'], dtype=object)"
      ]
     },
     "execution_count": 16,
     "metadata": {},
     "output_type": "execute_result"
    }
   ],
   "source": [
    "df.StopType.unique()"
   ]
  },
  {
   "cell_type": "code",
   "execution_count": null,
   "metadata": {
    "collapsed": true
   },
   "outputs": [],
   "source": [
    "# More information about StopType :  http://naptan.dft.gov.uk/naptan/stopTypes.htm"
   ]
  },
  {
   "cell_type": "markdown",
   "metadata": {},
   "source": [
    "Because we are only interested in the access areas, and so can select only rows corresponding to these stop types, leaving us with a much simpler dataset to analyse!"
   ]
  },
  {
   "cell_type": "code",
   "execution_count": 18,
   "metadata": {},
   "outputs": [
    {
     "data": {
      "text/plain": [
       "(419044, 6)"
      ]
     },
     "execution_count": 18,
     "metadata": {},
     "output_type": "execute_result"
    }
   ],
   "source": [
    "# Filter for some types of StopType\n",
    "df = df[df.StopType.isin({'GAT', 'FER', 'RLY', 'MET','BST', 'LCB', 'BCT'})]\n",
    "df.shape"
   ]
  },
  {
   "cell_type": "markdown",
   "metadata": {},
   "source": [
    "## Converting the dataframe to a geodataframe\n",
    "We now have a dataframe of all public transport stops in the UK, including their latitude and longitude. However, this data is stored as text, which makes it difficult to do spatial searches. For instance, it would be very difficult to find all stops in a specific area or within a certain distance of a point using a normal dataframe.\n",
    "\n",
    "In order to resolve this, we can convert the latitude and longitude values to a point geometry, and store these in a geodataframe.\n",
    "\n",
    "Shapely is a dependency of GeoPandas which allows us to create and manipulate geometry data types."
   ]
  },
  {
   "cell_type": "code",
   "execution_count": 19,
   "metadata": {
    "collapsed": true
   },
   "outputs": [],
   "source": [
    "import geopandas as gpd\n",
    "from shapely.geometry import Point\n",
    "\n",
    "%matplotlib inline"
   ]
  },
  {
   "cell_type": "markdown",
   "metadata": {},
   "source": [
    "We can use Shapely to create an ordered list of all the points in the dataframe. "
   ]
  },
  {
   "cell_type": "code",
   "execution_count": 20,
   "metadata": {
    "collapsed": true
   },
   "outputs": [],
   "source": [
    "geometry = [Point(xy) for xy in zip(df.Longitude, df.Latitude)]"
   ]
  },
  {
   "cell_type": "markdown",
   "metadata": {},
   "source": [
    "Shapely will create points using any Cartesian coordinate system. For geographical points, we can define the coordinate reference system (CRS), which allows us to compare points with different data types "
   ]
  },
  {
   "cell_type": "markdown",
   "metadata": {},
   "source": [
    "We can specifiy the CRS when we create the geodataframe. Remember to drop the text columns for latitude and longitude, as they are now contained within the geometry column. ( https://epsg.io/4326 )"
   ]
  },
  {
   "cell_type": "code",
   "execution_count": 22,
   "metadata": {
    "collapsed": true
   },
   "outputs": [],
   "source": [
    "df = df.drop(['Longitude', 'Latitude'], axis=1)\n",
    "crs = {'init': 'epsg:4326'}\n",
    "stops = gpd.GeoDataFrame(df, crs=crs, geometry=geometry)"
   ]
  },
  {
   "cell_type": "code",
   "execution_count": 25,
   "metadata": {},
   "outputs": [
    {
     "data": {
      "text/html": [
       "<div>\n",
       "<style scoped>\n",
       "    .dataframe tbody tr th:only-of-type {\n",
       "        vertical-align: middle;\n",
       "    }\n",
       "\n",
       "    .dataframe tbody tr th {\n",
       "        vertical-align: top;\n",
       "    }\n",
       "\n",
       "    .dataframe thead th {\n",
       "        text-align: right;\n",
       "    }\n",
       "</style>\n",
       "<table border=\"1\" class=\"dataframe\">\n",
       "  <thead>\n",
       "    <tr style=\"text-align: right;\">\n",
       "      <th></th>\n",
       "      <th>ATCOCode</th>\n",
       "      <th>CommonName</th>\n",
       "      <th>StopType</th>\n",
       "      <th>Status</th>\n",
       "      <th>geometry</th>\n",
       "    </tr>\n",
       "  </thead>\n",
       "  <tbody>\n",
       "    <tr>\n",
       "      <th>0</th>\n",
       "      <td>0100053316</td>\n",
       "      <td>Broad Walk Shops</td>\n",
       "      <td>BCT</td>\n",
       "      <td>del</td>\n",
       "      <td>POINT (-2.5876178397 51.455838217)</td>\n",
       "    </tr>\n",
       "    <tr>\n",
       "      <th>1</th>\n",
       "      <td>0100053264</td>\n",
       "      <td>Alberton Road</td>\n",
       "      <td>BCT</td>\n",
       "      <td>del</td>\n",
       "      <td>POINT (-2.5407019785 51.48899127649999)</td>\n",
       "    </tr>\n",
       "    <tr>\n",
       "      <th>2</th>\n",
       "      <td>0100053308</td>\n",
       "      <td>Counterslip</td>\n",
       "      <td>BCT</td>\n",
       "      <td>del</td>\n",
       "      <td>POINT (-2.587673673 51.4557030625)</td>\n",
       "    </tr>\n",
       "    <tr>\n",
       "      <th>3</th>\n",
       "      <td>0100053306</td>\n",
       "      <td>Risdale Road</td>\n",
       "      <td>BCT</td>\n",
       "      <td>del</td>\n",
       "      <td>POINT (-2.5878037737 51.45574736819999)</td>\n",
       "    </tr>\n",
       "    <tr>\n",
       "      <th>4</th>\n",
       "      <td>010000015</td>\n",
       "      <td>Kings Head Lane</td>\n",
       "      <td>BCT</td>\n",
       "      <td>del</td>\n",
       "      <td>POINT (-2.5878034271 51.455720395)</td>\n",
       "    </tr>\n",
       "  </tbody>\n",
       "</table>\n",
       "</div>"
      ],
      "text/plain": [
       "     ATCOCode        CommonName StopType Status  \\\n",
       "0  0100053316  Broad Walk Shops      BCT    del   \n",
       "1  0100053264     Alberton Road      BCT    del   \n",
       "2  0100053308       Counterslip      BCT    del   \n",
       "3  0100053306      Risdale Road      BCT    del   \n",
       "4   010000015   Kings Head Lane      BCT    del   \n",
       "\n",
       "                                  geometry  \n",
       "0       POINT (-2.5876178397 51.455838217)  \n",
       "1  POINT (-2.5407019785 51.48899127649999)  \n",
       "2       POINT (-2.587673673 51.4557030625)  \n",
       "3  POINT (-2.5878037737 51.45574736819999)  \n",
       "4       POINT (-2.5878034271 51.455720395)  "
      ]
     },
     "execution_count": 25,
     "metadata": {},
     "output_type": "execute_result"
    }
   ],
   "source": [
    "df.head()"
   ]
  },
  {
   "cell_type": "markdown",
   "metadata": {},
   "source": [
    "The geodataframe now has the all of the stops stored as geometric points in the EPSG4326 coordinate reference system. We can investigate this data by plotting it. For instance, the following command creates a plot of all railway stations in the UK."
   ]
  },
  {
   "cell_type": "code",
   "execution_count": 26,
   "metadata": {},
   "outputs": [
    {
     "data": {
      "text/plain": [
       "<matplotlib.axes._subplots.AxesSubplot at 0x1270d53e4a8>"
      ]
     },
     "execution_count": 26,
     "metadata": {},
     "output_type": "execute_result"
    },
    {
     "data": {
      "image/png": "[encoded data removed]",
      "text/plain": [
       "<matplotlib.figure.Figure at 0x127015f4f98>"
      ]
     },
     "metadata": {},
     "output_type": "display_data"
    }
   ],
   "source": [
    "stops[stops.StopType=='RLY'].plot(color='red')"
   ]
  },
  {
   "cell_type": "markdown",
   "metadata": {},
   "source": [
    "## Spatial searches\n",
    "The primary reason for converting spatial data from text to geometry is to allow for spatial searching, for instance to return all stops in a certain area or within a certain distance of a point."
   ]
  },
  {
   "cell_type": "markdown",
   "metadata": {},
   "source": [
    "We will import a shapefile (SHP) of the country boundaries in England and Wales. Shapefiles are made up of several files, <b>3 of which are mandatory (SHP, SHX, DBF)</b>. All of these files need to be stored in the same directory. As with the previous dataset, the HTTP request returns the data as a ZIP file. However, we now need to extract all of the files to the same directory to ensure we can access all parts of the shapefile.\n",
    "\n",
    "The following packages allow us to store these files in a temporary directory so they do not clutter our filesystem."
   ]
  },
  {
   "cell_type": "code",
   "execution_count": 27,
   "metadata": {
    "collapsed": true
   },
   "outputs": [],
   "source": [
    "from tempfile import mkdtemp\n",
    "from os.path import join\n",
    "\n",
    "tempdir=mkdtemp()"
   ]
  },
  {
   "cell_type": "code",
   "execution_count": 28,
   "metadata": {
    "collapsed": true
   },
   "outputs": [],
   "source": [
    "r = requests.get('http://geoportal.statistics.gov.uk/datasets/687f346f5023410ba86615655ff33ca9_3.zip')\n",
    "zf = zipfile.ZipFile(io.BytesIO(r.content))\n",
    "zf.extractall(path=tempdir)\n",
    "counties = gpd.read_file(join(tempdir, 'Counties_and_Unitary_Authorities_December_2016_Super_Generalised_Clipped_Boundaries_in_England_and_Wales.shp'))"
   ]
  },
  {
   "cell_type": "code",
   "execution_count": 29,
   "metadata": {},
   "outputs": [
    {
     "data": {
      "text/plain": [
       "'C:\\\\Users\\\\Lenovo\\\\AppData\\\\Local\\\\Temp\\\\tmpnzuyke9s'"
      ]
     },
     "execution_count": 29,
     "metadata": {},
     "output_type": "execute_result"
    }
   ],
   "source": [
    "tempdir"
   ]
  },
  {
   "cell_type": "code",
   "execution_count": 30,
   "metadata": {},
   "outputs": [
    {
     "data": {
      "text/plain": [
       "<zipfile.ZipFile file=<_io.BytesIO object at 0x0000012760D0A0A0> mode='r'>"
      ]
     },
     "execution_count": 30,
     "metadata": {},
     "output_type": "execute_result"
    }
   ],
   "source": [
    "zf"
   ]
  },
  {
   "cell_type": "code",
   "execution_count": 32,
   "metadata": {},
   "outputs": [
    {
     "data": {
      "text/html": [
       "<div>\n",
       "<style scoped>\n",
       "    .dataframe tbody tr th:only-of-type {\n",
       "        vertical-align: middle;\n",
       "    }\n",
       "\n",
       "    .dataframe tbody tr th {\n",
       "        vertical-align: top;\n",
       "    }\n",
       "\n",
       "    .dataframe thead th {\n",
       "        text-align: right;\n",
       "    }\n",
       "</style>\n",
       "<table border=\"1\" class=\"dataframe\">\n",
       "  <thead>\n",
       "    <tr style=\"text-align: right;\">\n",
       "      <th></th>\n",
       "      <th>objectid</th>\n",
       "      <th>ctyua16cd</th>\n",
       "      <th>ctyua16nm</th>\n",
       "      <th>ctyua16nmw</th>\n",
       "      <th>bng_e</th>\n",
       "      <th>bng_n</th>\n",
       "      <th>long</th>\n",
       "      <th>lat</th>\n",
       "      <th>st_areasha</th>\n",
       "      <th>st_lengths</th>\n",
       "      <th>geometry</th>\n",
       "    </tr>\n",
       "  </thead>\n",
       "  <tbody>\n",
       "    <tr>\n",
       "      <th>0</th>\n",
       "      <td>1</td>\n",
       "      <td>E06000001</td>\n",
       "      <td>Hartlepool</td>\n",
       "      <td>None</td>\n",
       "      <td>447157</td>\n",
       "      <td>531476</td>\n",
       "      <td>-1.27023</td>\n",
       "      <td>54.676159</td>\n",
       "      <td>9.411051e+07</td>\n",
       "      <td>60466.169285</td>\n",
       "      <td>(POLYGON ((-1.258561397495176 54.7260554502135...</td>\n",
       "    </tr>\n",
       "    <tr>\n",
       "      <th>1</th>\n",
       "      <td>2</td>\n",
       "      <td>E06000002</td>\n",
       "      <td>Middlesbrough</td>\n",
       "      <td>None</td>\n",
       "      <td>451141</td>\n",
       "      <td>516887</td>\n",
       "      <td>-1.21099</td>\n",
       "      <td>54.544670</td>\n",
       "      <td>5.414735e+07</td>\n",
       "      <td>38202.123552</td>\n",
       "      <td>POLYGON ((-1.215710912858051 54.58106706723728...</td>\n",
       "    </tr>\n",
       "    <tr>\n",
       "      <th>2</th>\n",
       "      <td>3</td>\n",
       "      <td>E06000003</td>\n",
       "      <td>Redcar and Cleveland</td>\n",
       "      <td>None</td>\n",
       "      <td>464359</td>\n",
       "      <td>519597</td>\n",
       "      <td>-1.00611</td>\n",
       "      <td>54.567520</td>\n",
       "      <td>2.447416e+08</td>\n",
       "      <td>85692.520371</td>\n",
       "      <td>(POLYGON ((-1.118812515590787 54.6288614443116...</td>\n",
       "    </tr>\n",
       "    <tr>\n",
       "      <th>3</th>\n",
       "      <td>4</td>\n",
       "      <td>E06000004</td>\n",
       "      <td>Stockton-on-Tees</td>\n",
       "      <td>None</td>\n",
       "      <td>444937</td>\n",
       "      <td>518183</td>\n",
       "      <td>-1.30669</td>\n",
       "      <td>54.556911</td>\n",
       "      <td>2.043841e+08</td>\n",
       "      <td>99766.358345</td>\n",
       "      <td>(POLYGON ((-1.298218567737248 54.6355108616733...</td>\n",
       "    </tr>\n",
       "    <tr>\n",
       "      <th>4</th>\n",
       "      <td>5</td>\n",
       "      <td>E06000005</td>\n",
       "      <td>Darlington</td>\n",
       "      <td>None</td>\n",
       "      <td>428029</td>\n",
       "      <td>515649</td>\n",
       "      <td>-1.56835</td>\n",
       "      <td>54.535351</td>\n",
       "      <td>1.977901e+08</td>\n",
       "      <td>97801.401117</td>\n",
       "      <td>POLYGON ((-1.641628511480652 54.61936567911429...</td>\n",
       "    </tr>\n",
       "  </tbody>\n",
       "</table>\n",
       "</div>"
      ],
      "text/plain": [
       "   objectid  ctyua16cd             ctyua16nm ctyua16nmw   bng_e   bng_n  \\\n",
       "0         1  E06000001            Hartlepool       None  447157  531476   \n",
       "1         2  E06000002         Middlesbrough       None  451141  516887   \n",
       "2         3  E06000003  Redcar and Cleveland       None  464359  519597   \n",
       "3         4  E06000004      Stockton-on-Tees       None  444937  518183   \n",
       "4         5  E06000005            Darlington       None  428029  515649   \n",
       "\n",
       "      long        lat    st_areasha    st_lengths  \\\n",
       "0 -1.27023  54.676159  9.411051e+07  60466.169285   \n",
       "1 -1.21099  54.544670  5.414735e+07  38202.123552   \n",
       "2 -1.00611  54.567520  2.447416e+08  85692.520371   \n",
       "3 -1.30669  54.556911  2.043841e+08  99766.358345   \n",
       "4 -1.56835  54.535351  1.977901e+08  97801.401117   \n",
       "\n",
       "                                            geometry  \n",
       "0  (POLYGON ((-1.258561397495176 54.7260554502135...  \n",
       "1  POLYGON ((-1.215710912858051 54.58106706723728...  \n",
       "2  (POLYGON ((-1.118812515590787 54.6288614443116...  \n",
       "3  (POLYGON ((-1.298218567737248 54.6355108616733...  \n",
       "4  POLYGON ((-1.641628511480652 54.61936567911429...  "
      ]
     },
     "execution_count": 32,
     "metadata": {},
     "output_type": "execute_result"
    }
   ],
   "source": [
    "counties.head()"
   ]
  },
  {
   "cell_type": "markdown",
   "metadata": {},
   "source": [
    "As before, we can plot the geometries. As the two systems have a coordinate reference system specified (the boroughs have the CRS specified in the shapefile), we can plot features from both on the same map. This requires us to import matplotlib, which is a dependency of GeoPandas used for its plot method.\n",
    "\n",
    "The following code plots all of the airport terminals in the UK, superimposed over the counties in England and Wales."
   ]
  },
  {
   "cell_type": "code",
   "execution_count": 42,
   "metadata": {},
   "outputs": [
    {
     "data": {
      "image/png": "[encoded data removed]",
      "text/plain": [
       "<matplotlib.figure.Figure at 0x127017e9da0>"
      ]
     },
     "metadata": {},
     "output_type": "display_data"
    }
   ],
   "source": [
    "import matplotlib.pyplot as plt\n",
    "fig, ax = plt.subplots()\n",
    "\n",
    "ax.set_aspect('equal')\n",
    "counties.plot(ax=ax, color='cyan')\n",
    "stops[stops.StopType=='GAT'].plot(ax=ax, marker='o', color='red', markersize=10)\n",
    "plt.show();"
   ]
  },
  {
   "cell_type": "markdown",
   "metadata": {},
   "source": [
    "We can then carry out spatial manipulations on the two geodataframes. The following carries out a spatial join, adding borough information to each stop point in the dataset. As it is an inner join, any stop points points not within a county boundary are removed."
   ]
  },
  {
   "cell_type": "code",
   "execution_count": 37,
   "metadata": {
    "collapsed": true
   },
   "outputs": [],
   "source": [
    "# Managing INTERSECTS in Geo Spacial points betwen STOPS and COUNTIES\n",
    "stops_with_county = gpd.sjoin(stops, counties, how='inner', op='intersects')"
   ]
  },
  {
   "cell_type": "markdown",
   "metadata": {},
   "source": [
    "We can then use this table to investigate the numbers of stops in each county. For instance, we can see that the City of London has the least bus stops, with 166, and Hampshire has the most, with 8749."
   ]
  },
  {
   "cell_type": "code",
   "execution_count": 38,
   "metadata": {},
   "outputs": [
    {
     "data": {
      "text/html": [
       "<div>\n",
       "<style scoped>\n",
       "    .dataframe tbody tr th:only-of-type {\n",
       "        vertical-align: middle;\n",
       "    }\n",
       "\n",
       "    .dataframe tbody tr th {\n",
       "        vertical-align: top;\n",
       "    }\n",
       "\n",
       "    .dataframe thead th {\n",
       "        text-align: right;\n",
       "    }\n",
       "</style>\n",
       "<table border=\"1\" class=\"dataframe\">\n",
       "  <thead>\n",
       "    <tr style=\"text-align: right;\">\n",
       "      <th></th>\n",
       "      <th>ctyua16nm</th>\n",
       "      <th>StopType</th>\n",
       "      <th>count</th>\n",
       "    </tr>\n",
       "  </thead>\n",
       "  <tbody>\n",
       "    <tr>\n",
       "      <th>79</th>\n",
       "      <td>City of London</td>\n",
       "      <td>BCT</td>\n",
       "      <td>171</td>\n",
       "    </tr>\n",
       "    <tr>\n",
       "      <th>365</th>\n",
       "      <td>Rutland</td>\n",
       "      <td>BCT</td>\n",
       "      <td>243</td>\n",
       "    </tr>\n",
       "    <tr>\n",
       "      <th>211</th>\n",
       "      <td>Kensington and Chelsea</td>\n",
       "      <td>BCT</td>\n",
       "      <td>276</td>\n",
       "    </tr>\n",
       "    <tr>\n",
       "      <th>168</th>\n",
       "      <td>Hammersmith and Fulham</td>\n",
       "      <td>BCT</td>\n",
       "      <td>332</td>\n",
       "    </tr>\n",
       "    <tr>\n",
       "      <th>208</th>\n",
       "      <td>Islington</td>\n",
       "      <td>BCT</td>\n",
       "      <td>426</td>\n",
       "    </tr>\n",
       "    <tr>\n",
       "      <th>0</th>\n",
       "      <td>Barking and Dagenham</td>\n",
       "      <td>BCT</td>\n",
       "      <td>445</td>\n",
       "    </tr>\n",
       "    <tr>\n",
       "      <th>449</th>\n",
       "      <td>Tower Hamlets</td>\n",
       "      <td>BCT</td>\n",
       "      <td>458</td>\n",
       "    </tr>\n",
       "    <tr>\n",
       "      <th>383</th>\n",
       "      <td>Slough</td>\n",
       "      <td>BCT</td>\n",
       "      <td>459</td>\n",
       "    </tr>\n",
       "    <tr>\n",
       "      <th>61</th>\n",
       "      <td>Camden</td>\n",
       "      <td>BCT</td>\n",
       "      <td>470</td>\n",
       "    </tr>\n",
       "    <tr>\n",
       "      <th>29</th>\n",
       "      <td>Bracknell Forest</td>\n",
       "      <td>BCT</td>\n",
       "      <td>484</td>\n",
       "    </tr>\n",
       "    <tr>\n",
       "      <th>179</th>\n",
       "      <td>Harrow</td>\n",
       "      <td>BCT</td>\n",
       "      <td>495</td>\n",
       "    </tr>\n",
       "    <tr>\n",
       "      <th>267</th>\n",
       "      <td>Merton</td>\n",
       "      <td>BCT</td>\n",
       "      <td>515</td>\n",
       "    </tr>\n",
       "    <tr>\n",
       "      <th>163</th>\n",
       "      <td>Hackney</td>\n",
       "      <td>BCT</td>\n",
       "      <td>515</td>\n",
       "    </tr>\n",
       "    <tr>\n",
       "      <th>221</th>\n",
       "      <td>Kingston upon Thames</td>\n",
       "      <td>BCT</td>\n",
       "      <td>527</td>\n",
       "    </tr>\n",
       "    <tr>\n",
       "      <th>22</th>\n",
       "      <td>Blaenau Gwent</td>\n",
       "      <td>BCT</td>\n",
       "      <td>533</td>\n",
       "    </tr>\n",
       "    <tr>\n",
       "      <th>265</th>\n",
       "      <td>Merthyr Tydfil</td>\n",
       "      <td>BCT</td>\n",
       "      <td>538</td>\n",
       "    </tr>\n",
       "    <tr>\n",
       "      <th>355</th>\n",
       "      <td>Richmond upon Thames</td>\n",
       "      <td>BCT</td>\n",
       "      <td>579</td>\n",
       "    </tr>\n",
       "    <tr>\n",
       "      <th>176</th>\n",
       "      <td>Haringey</td>\n",
       "      <td>BCT</td>\n",
       "      <td>585</td>\n",
       "    </tr>\n",
       "    <tr>\n",
       "      <th>464</th>\n",
       "      <td>Waltham Forest</td>\n",
       "      <td>BCT</td>\n",
       "      <td>590</td>\n",
       "    </tr>\n",
       "    <tr>\n",
       "      <th>467</th>\n",
       "      <td>Wandsworth</td>\n",
       "      <td>BCT</td>\n",
       "      <td>592</td>\n",
       "    </tr>\n",
       "    <tr>\n",
       "      <th>283</th>\n",
       "      <td>Newham</td>\n",
       "      <td>BCT</td>\n",
       "      <td>601</td>\n",
       "    </tr>\n",
       "    <tr>\n",
       "      <th>483</th>\n",
       "      <td>Westminster</td>\n",
       "      <td>BCT</td>\n",
       "      <td>608</td>\n",
       "    </tr>\n",
       "    <tr>\n",
       "      <th>441</th>\n",
       "      <td>Thurrock</td>\n",
       "      <td>BCT</td>\n",
       "      <td>610</td>\n",
       "    </tr>\n",
       "    <tr>\n",
       "      <th>348</th>\n",
       "      <td>Redbridge</td>\n",
       "      <td>BCT</td>\n",
       "      <td>614</td>\n",
       "    </tr>\n",
       "    <tr>\n",
       "      <th>340</th>\n",
       "      <td>Portsmouth</td>\n",
       "      <td>BCT</td>\n",
       "      <td>623</td>\n",
       "    </tr>\n",
       "    <tr>\n",
       "      <th>428</th>\n",
       "      <td>Sutton</td>\n",
       "      <td>BCT</td>\n",
       "      <td>651</td>\n",
       "    </tr>\n",
       "    <tr>\n",
       "      <th>34</th>\n",
       "      <td>Brent</td>\n",
       "      <td>BCT</td>\n",
       "      <td>654</td>\n",
       "    </tr>\n",
       "    <tr>\n",
       "      <th>404</th>\n",
       "      <td>Southwark</td>\n",
       "      <td>BCT</td>\n",
       "      <td>666</td>\n",
       "    </tr>\n",
       "    <tr>\n",
       "      <th>228</th>\n",
       "      <td>Lambeth</td>\n",
       "      <td>BCT</td>\n",
       "      <td>669</td>\n",
       "    </tr>\n",
       "    <tr>\n",
       "      <th>166</th>\n",
       "      <td>Halton</td>\n",
       "      <td>BCT</td>\n",
       "      <td>670</td>\n",
       "    </tr>\n",
       "    <tr>\n",
       "      <th>...</th>\n",
       "      <td>...</td>\n",
       "      <td>...</td>\n",
       "      <td>...</td>\n",
       "    </tr>\n",
       "    <tr>\n",
       "      <th>121</th>\n",
       "      <td>Dorset</td>\n",
       "      <td>BCT</td>\n",
       "      <td>3764</td>\n",
       "    </tr>\n",
       "    <tr>\n",
       "      <th>243</th>\n",
       "      <td>Leicestershire</td>\n",
       "      <td>BCT</td>\n",
       "      <td>3942</td>\n",
       "    </tr>\n",
       "    <tr>\n",
       "      <th>473</th>\n",
       "      <td>Warwickshire</td>\n",
       "      <td>BCT</td>\n",
       "      <td>3969</td>\n",
       "    </tr>\n",
       "    <tr>\n",
       "      <th>389</th>\n",
       "      <td>Somerset</td>\n",
       "      <td>BCT</td>\n",
       "      <td>4264</td>\n",
       "    </tr>\n",
       "    <tr>\n",
       "      <th>501</th>\n",
       "      <td>Worcestershire</td>\n",
       "      <td>BCT</td>\n",
       "      <td>4318</td>\n",
       "    </tr>\n",
       "    <tr>\n",
       "      <th>224</th>\n",
       "      <td>Kirklees</td>\n",
       "      <td>BCT</td>\n",
       "      <td>4438</td>\n",
       "    </tr>\n",
       "    <tr>\n",
       "      <th>489</th>\n",
       "      <td>Wiltshire</td>\n",
       "      <td>BCT</td>\n",
       "      <td>4625</td>\n",
       "    </tr>\n",
       "    <tr>\n",
       "      <th>98</th>\n",
       "      <td>Cumbria</td>\n",
       "      <td>BCT</td>\n",
       "      <td>4718</td>\n",
       "    </tr>\n",
       "    <tr>\n",
       "      <th>323</th>\n",
       "      <td>Oxfordshire</td>\n",
       "      <td>BCT</td>\n",
       "      <td>4746</td>\n",
       "    </tr>\n",
       "    <tr>\n",
       "      <th>308</th>\n",
       "      <td>Northamptonshire</td>\n",
       "      <td>BCT</td>\n",
       "      <td>4749</td>\n",
       "    </tr>\n",
       "    <tr>\n",
       "      <th>237</th>\n",
       "      <td>Leeds</td>\n",
       "      <td>BCT</td>\n",
       "      <td>5063</td>\n",
       "    </tr>\n",
       "    <tr>\n",
       "      <th>14</th>\n",
       "      <td>Birmingham</td>\n",
       "      <td>BCT</td>\n",
       "      <td>5212</td>\n",
       "    </tr>\n",
       "    <tr>\n",
       "      <th>305</th>\n",
       "      <td>North Yorkshire</td>\n",
       "      <td>BCT</td>\n",
       "      <td>5237</td>\n",
       "    </tr>\n",
       "    <tr>\n",
       "      <th>91</th>\n",
       "      <td>County Durham</td>\n",
       "      <td>BCT</td>\n",
       "      <td>5398</td>\n",
       "    </tr>\n",
       "    <tr>\n",
       "      <th>86</th>\n",
       "      <td>Cornwall</td>\n",
       "      <td>BCT</td>\n",
       "      <td>5644</td>\n",
       "    </tr>\n",
       "    <tr>\n",
       "      <th>317</th>\n",
       "      <td>Nottinghamshire</td>\n",
       "      <td>BCT</td>\n",
       "      <td>6024</td>\n",
       "    </tr>\n",
       "    <tr>\n",
       "      <th>410</th>\n",
       "      <td>Staffordshire</td>\n",
       "      <td>BCT</td>\n",
       "      <td>6354</td>\n",
       "    </tr>\n",
       "    <tr>\n",
       "      <th>478</th>\n",
       "      <td>West Sussex</td>\n",
       "      <td>BCT</td>\n",
       "      <td>6415</td>\n",
       "    </tr>\n",
       "    <tr>\n",
       "      <th>113</th>\n",
       "      <td>Devon</td>\n",
       "      <td>BCT</td>\n",
       "      <td>6540</td>\n",
       "    </tr>\n",
       "    <tr>\n",
       "      <th>289</th>\n",
       "      <td>Norfolk</td>\n",
       "      <td>BCT</td>\n",
       "      <td>6760</td>\n",
       "    </tr>\n",
       "    <tr>\n",
       "      <th>189</th>\n",
       "      <td>Hertfordshire</td>\n",
       "      <td>BCT</td>\n",
       "      <td>6797</td>\n",
       "    </tr>\n",
       "    <tr>\n",
       "      <th>425</th>\n",
       "      <td>Surrey</td>\n",
       "      <td>BCT</td>\n",
       "      <td>6809</td>\n",
       "    </tr>\n",
       "    <tr>\n",
       "      <th>419</th>\n",
       "      <td>Suffolk</td>\n",
       "      <td>BCT</td>\n",
       "      <td>6818</td>\n",
       "    </tr>\n",
       "    <tr>\n",
       "      <th>150</th>\n",
       "      <td>Gloucestershire</td>\n",
       "      <td>BCT</td>\n",
       "      <td>6830</td>\n",
       "    </tr>\n",
       "    <tr>\n",
       "      <th>250</th>\n",
       "      <td>Lincolnshire</td>\n",
       "      <td>BCT</td>\n",
       "      <td>7059</td>\n",
       "    </tr>\n",
       "    <tr>\n",
       "      <th>232</th>\n",
       "      <td>Lancashire</td>\n",
       "      <td>BCT</td>\n",
       "      <td>7815</td>\n",
       "    </tr>\n",
       "    <tr>\n",
       "      <th>110</th>\n",
       "      <td>Derbyshire</td>\n",
       "      <td>BCT</td>\n",
       "      <td>7849</td>\n",
       "    </tr>\n",
       "    <tr>\n",
       "      <th>140</th>\n",
       "      <td>Essex</td>\n",
       "      <td>BCT</td>\n",
       "      <td>8429</td>\n",
       "    </tr>\n",
       "    <tr>\n",
       "      <th>213</th>\n",
       "      <td>Kent</td>\n",
       "      <td>BCT</td>\n",
       "      <td>8735</td>\n",
       "    </tr>\n",
       "    <tr>\n",
       "      <th>171</th>\n",
       "      <td>Hampshire</td>\n",
       "      <td>BCT</td>\n",
       "      <td>8816</td>\n",
       "    </tr>\n",
       "  </tbody>\n",
       "</table>\n",
       "<p>173 rows × 3 columns</p>\n",
       "</div>"
      ],
      "text/plain": [
       "                  ctyua16nm StopType  count\n",
       "79           City of London      BCT    171\n",
       "365                 Rutland      BCT    243\n",
       "211  Kensington and Chelsea      BCT    276\n",
       "168  Hammersmith and Fulham      BCT    332\n",
       "208               Islington      BCT    426\n",
       "0      Barking and Dagenham      BCT    445\n",
       "449           Tower Hamlets      BCT    458\n",
       "383                  Slough      BCT    459\n",
       "61                   Camden      BCT    470\n",
       "29         Bracknell Forest      BCT    484\n",
       "179                  Harrow      BCT    495\n",
       "267                  Merton      BCT    515\n",
       "163                 Hackney      BCT    515\n",
       "221    Kingston upon Thames      BCT    527\n",
       "22            Blaenau Gwent      BCT    533\n",
       "265          Merthyr Tydfil      BCT    538\n",
       "355    Richmond upon Thames      BCT    579\n",
       "176                Haringey      BCT    585\n",
       "464          Waltham Forest      BCT    590\n",
       "467              Wandsworth      BCT    592\n",
       "283                  Newham      BCT    601\n",
       "483             Westminster      BCT    608\n",
       "441                Thurrock      BCT    610\n",
       "348               Redbridge      BCT    614\n",
       "340              Portsmouth      BCT    623\n",
       "428                  Sutton      BCT    651\n",
       "34                    Brent      BCT    654\n",
       "404               Southwark      BCT    666\n",
       "228                 Lambeth      BCT    669\n",
       "166                  Halton      BCT    670\n",
       "..                      ...      ...    ...\n",
       "121                  Dorset      BCT   3764\n",
       "243          Leicestershire      BCT   3942\n",
       "473            Warwickshire      BCT   3969\n",
       "389                Somerset      BCT   4264\n",
       "501          Worcestershire      BCT   4318\n",
       "224                Kirklees      BCT   4438\n",
       "489               Wiltshire      BCT   4625\n",
       "98                  Cumbria      BCT   4718\n",
       "323             Oxfordshire      BCT   4746\n",
       "308        Northamptonshire      BCT   4749\n",
       "237                   Leeds      BCT   5063\n",
       "14               Birmingham      BCT   5212\n",
       "305         North Yorkshire      BCT   5237\n",
       "91            County Durham      BCT   5398\n",
       "86                 Cornwall      BCT   5644\n",
       "317         Nottinghamshire      BCT   6024\n",
       "410           Staffordshire      BCT   6354\n",
       "478             West Sussex      BCT   6415\n",
       "113                   Devon      BCT   6540\n",
       "289                 Norfolk      BCT   6760\n",
       "189           Hertfordshire      BCT   6797\n",
       "425                  Surrey      BCT   6809\n",
       "419                 Suffolk      BCT   6818\n",
       "150         Gloucestershire      BCT   6830\n",
       "250            Lincolnshire      BCT   7059\n",
       "232              Lancashire      BCT   7815\n",
       "110              Derbyshire      BCT   7849\n",
       "140                   Essex      BCT   8429\n",
       "213                    Kent      BCT   8735\n",
       "171               Hampshire      BCT   8816\n",
       "\n",
       "[173 rows x 3 columns]"
      ]
     },
     "execution_count": 38,
     "metadata": {},
     "output_type": "execute_result"
    }
   ],
   "source": [
    "x = stops_with_county\\\n",
    "        .groupby(['ctyua16nm', 'StopType']) \\\n",
    "        .size() \\\n",
    "        .to_frame('count') \\\n",
    "        .reset_index()\n",
    "x[x.StopType=='BCT'].sort_values(['count'], ascending='False')"
   ]
  },
  {
   "cell_type": "markdown",
   "metadata": {},
   "source": [
    "Finally, we can produce maps for specific counties. For instance, the following code produces a map of all rail stations in Cambridgeshire."
   ]
  },
  {
   "cell_type": "code",
   "execution_count": 43,
   "metadata": {},
   "outputs": [
    {
     "data": {
      "image/png": "[encoded data removed]",
      "text/plain": [
       "<matplotlib.figure.Figure at 0x12701dcc7b8>"
      ]
     },
     "metadata": {},
     "output_type": "display_data"
    }
   ],
   "source": [
    "fig, ax = plt.subplots()\n",
    "ax.set_aspect('equal')\n",
    "citie = 'Cambridgeshire'\n",
    "\n",
    "counties.loc[counties.ctyua16nm==citie].plot(ax=ax, color='cyan')\n",
    "stops_with_county.loc[\n",
    "    (stops_with_county.StopType=='BCT') \\\n",
    "    & (stops_with_county.ctyua16nm==citie)\n",
    "].plot(ax=ax, marker='o', color='red', markersize=3)\n",
    "plt.show();"
   ]
  },
  {
   "cell_type": "markdown",
   "metadata": {},
   "source": [
    "We could also add rail stations to the plot with a different marker."
   ]
  },
  {
   "cell_type": "code",
   "execution_count": 49,
   "metadata": {},
   "outputs": [
    {
     "data": {
      "image/png": "[encoded data removed]",
      "text/plain": [
       "<matplotlib.figure.Figure at 0x12701dcc7b8>"
      ]
     },
     "execution_count": 49,
     "metadata": {},
     "output_type": "execute_result"
    },
    {
     "data": {
      "text/plain": [
       "<matplotlib.figure.Figure at 0x1271c0639e8>"
      ]
     },
     "metadata": {},
     "output_type": "display_data"
    }
   ],
   "source": [
    "stops_with_county.loc[(stops_with_county.StopType=='RLY') \\\n",
    "                      & (stops_with_county.ctyua16nm==citie)].\\\n",
    "                    plot(ax=ax, marker='x', color='blue', markersize=10)\n",
    "fig"
   ]
  },
  {
   "cell_type": "markdown",
   "metadata": {},
   "source": [
    " "
   ]
  }
 ],
 "metadata": {
  "kernelspec": {
   "display_name": "Python 3",
   "language": "python",
   "name": "python3"
  },
  "language_info": {
   "codemirror_mode": {
    "name": "ipython",
    "version": 3
   },
   "file_extension": ".py",
   "mimetype": "text/x-python",
   "name": "python",
   "nbconvert_exporter": "python",
   "pygments_lexer": "ipython3",
   "version": "3.6.1"
  }
 },
 "nbformat": 4,
 "nbformat_minor": 2
}
